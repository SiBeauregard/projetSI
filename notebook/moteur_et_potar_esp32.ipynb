{
 "cells": [
  {
   "cell_type": "markdown",
   "id": "faf17c14",
   "metadata": {},
   "source": [
    "# COMMANDE D'UN MOTEUR A COURANT CONTINU A L'AIDE D'UN TRANSISTOR MOSFET ET D'UN ESP32"
   ]
  },
  {
   "cell_type": "markdown",
   "id": "c883d148",
   "metadata": {},
   "source": [
    "\n",
    "## 1-Schéma de cablage du moteur à courant continu\n",
    "![fritzing](image/img1.png)"
   ]
  },
  {
   "cell_type": "code",
   "execution_count": 2,
   "id": "5b1f3feb",
   "metadata": {},
   "outputs": [
    {
     "name": "stdout",
     "output_type": "stream",
     "text": [
      "\u001b[34mConnecting to --port=/dev/ttyUSB1 --baud=115200 \u001b[0m\n",
      "\u001b[34mReady.\n",
      "\u001b[0m"
     ]
    }
   ],
   "source": [
    "%serialconnect --port=/dev/ttyUSB1 --baud=115200  #connexion série avec ESP32"
   ]
  },
  {
   "cell_type": "markdown",
   "id": "7d785d5a",
   "metadata": {},
   "source": [
    "On efface le main.py présent dans l'esp32, afin d'éviter les conflits."
   ]
  },
  {
   "cell_type": "code",
   "execution_count": 3,
   "id": "3627baa8",
   "metadata": {},
   "outputs": [
    {
     "name": "stdout",
     "output_type": "stream",
     "text": [
      "avant:  ['boot.py', 'main.py', 'mqtt_as.py']\n",
      "apres:  ['boot.py', 'mqtt_as.py']\n"
     ]
    }
   ],
   "source": [
    "import os\n",
    "print(\"avant: \",os.listdir(\"\"))  # affichage de la liste des fichiers contenu dans la mémoire de ESP32\n",
    "os.remove('main.py')  # efface le fichier \"main.py\"\n",
    "print(\"apres: \",os.listdir(\"\")) # affichage de la liste des fichiers après "
   ]
  },
  {
   "cell_type": "code",
   "execution_count": 3,
   "id": "1c2f16ee",
   "metadata": {},
   "outputs": [
    {
     "name": "stdout",
     "output_type": "stream",
     "text": [
      "Sent 647 lines (23171 bytes) to mqtt_as.py.\n"
     ]
    }
   ],
   "source": [
    "%sendtofile --source mqtt_as.py"
   ]
  },
  {
   "cell_type": "markdown",
   "id": "74d9121d",
   "metadata": {},
   "source": [
    "On écrit dans la mémoire de ESP32 la bibliothèque mqtt_as.py et le programme principal suivant dans le fichier main.py, qui sera lancé après appui sur boot"
   ]
  },
  {
   "cell_type": "code",
   "execution_count": 4,
   "id": "1d5a2547",
   "metadata": {},
   "outputs": [
    {
     "name": "stdout",
     "output_type": "stream",
     "text": [
      "Sent 49 lines (1801 bytes) to main.py.\n"
     ]
    }
   ],
   "source": [
    "\n",
    "%sendtofile main.py\n",
    "\n",
    "from mqtt_as import MQTTClient, config #importation des class MQTTClient et config du module mqtt_as\n",
    "from machine import Pin, PWM, ADC #importation de la classe Pin du module machine\n",
    "from time import sleep #importation de la classe sleep du module time\n",
    "import uasyncio#importation du module uasyncio\n",
    "\n",
    "\n",
    "#configuration des connections\n",
    "config['server'] = \"test.mosquitto.org\"#hostname du  broker\n",
    "config['ssid'] = \"freenab\"#configuration wifi\n",
    "config['wifi_pw'] = \"ZimDid2023\"#mot de passe\n",
    "\n",
    "#configuration des broches D15\n",
    "pwm0 = PWM(Pin(15))      # create PWM object from a pin\n",
    "pwm0.freq(1000) \n",
    "#potar = Pin(34)\n",
    "pwm0.duty(0)\n",
    "\n",
    "#fonction appele lors de la communication avec le broker\n",
    "def callback(topic, msg, retained):        \n",
    "    if topic == b'test/pwm': \n",
    "        i=msg.decode(\"utf-8\")        \n",
    "        i=int(i)        \n",
    "        pwm0.duty(i)\n",
    "        \n",
    "#souscription à tous les topics test/\n",
    "async def conn_han(client):\n",
    "    await client.subscribe('test/#', 0)\n",
    "    \n",
    "#programme principal  et publication sur le topic \"/led\"  et /D13 toutes les secondes\n",
    "async def main(client):\n",
    "    await client.connect() #connection du client au broker en wifi\n",
    "    while True:\n",
    "        #tension = ADC(potar)                          \n",
    "       # tension.atten(ADC.ATTN_11DB)                        \n",
    "       # await client.publish('test/potar',str(tension.read()))\n",
    "       # print('potar =', tension.read())\n",
    "        await uasyncio.sleep(1)\n",
    "\n",
    "#configuration pour la gestion des publications et souscriptions\n",
    "config['subs_cb'] = callback\n",
    "config['connect_coro'] = conn_han\n",
    "\n",
    "MQTTClient.DEBUG = True # affichage des messages de diagnostic\n",
    "client = MQTTClient(config) #création de l'objet client par instanciation de la classe MQTTClient()\n",
    "\n",
    "try:\n",
    "    uasyncio.run(main(client)) #mise en route du programme principal \n",
    "finally:\n",
    "    client.close()"
   ]
  },
  {
   "cell_type": "markdown",
   "id": "062eb78f",
   "metadata": {},
   "source": [
    "l'ESP32 doit être connecté à via l'usb à une source d'alimentation (PC), le moteur doit aussi être connecté à une alimentation (brancher le transfo sur une prise 230V).\n",
    "Vous pouvez maintenant commander la vitesse de votre moteur, pour cela il faut :\n",
    "- Ouvrir VSCcodium (menu \"programmation\"),\n",
    "- Dans VSCcodium , ouvrir le répertoire ESP32, vous verrez afficher les fichiers dans l'explorateur sur la colonne de gauche.\n",
    "![fig3.png](image/fig3.png)\n",
    "- ouvrir un nouveau terminal (onglet terminal sur VSCcodium)\n",
    "- tapez la commande suivante : streamlit run mqtt_et_streamlit.py\n",
    " - Le navigateur s'ouvre sur une page, ou vous trouverez un slider pour compmander la vitesse du moteur\n",
    "  et un graphique qui affiche la valeur de la tension présente sur l'entrée 23, on peut la faire varier en manipulant le potentiometre qui est branché sur l'entrée 23\n",
    "  \n"
   ]
  },
  {
   "cell_type": "code",
   "execution_count": null,
   "id": "d43afb7d",
   "metadata": {},
   "outputs": [],
   "source": []
  }
 ],
 "metadata": {
  "kernelspec": {
   "display_name": "MicroPython - USB",
   "language": "micropython",
   "name": "micropython"
  },
  "language_info": {
   "codemirror_mode": "python",
   "file_extension": ".py",
   "mimetype": "text/python",
   "name": "micropython"
  }
 },
 "nbformat": 4,
 "nbformat_minor": 5
}
